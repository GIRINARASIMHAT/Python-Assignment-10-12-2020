{
 "cells": [
  {
   "cell_type": "code",
   "execution_count": 1,
   "metadata": {},
   "outputs": [
    {
     "name": "stdout",
     "output_type": "stream",
     "text": [
      "(10, 14)\n",
      "(20, 28)\n"
     ]
    }
   ],
   "source": [
    "class Point(object):\n",
    "    def __init__(self, x=0, y=0):\n",
    "        self.x = x\n",
    "        self.y = y\n",
    "\n",
    "    def __add__(self, other):\n",
    "        point_ = Point()\n",
    "        if isinstance(other, Point):\n",
    "            point_.x += self.x + other.x\n",
    "            point_.y += self.y + other.y\n",
    "            return point_\n",
    "        elif type(other) == tuple:\n",
    "            point_.x += self.x + other[0]\n",
    "            point_.y += self.y + other[1]\n",
    "        return point_\n",
    "\n",
    "    def __radd__(self, other):\n",
    "        return self.__add__(other)\n",
    "\n",
    "    def __str__(self):\n",
    "        return \"(%s, %s)\" % (self.x, self.y)\n",
    "\n",
    "p1 = Point(5, 6)\n",
    "p2 = (5, 8)\n",
    "p3 = p1 + p2\n",
    "p4 = p1 + p2 +p3\n",
    "print(p3)\n",
    "print(p4)"
   ]
  }
 ],
 "metadata": {
  "kernelspec": {
   "display_name": "Python 3",
   "language": "python",
   "name": "python3"
  },
  "language_info": {
   "codemirror_mode": {
    "name": "ipython",
    "version": 3
   },
   "file_extension": ".py",
   "mimetype": "text/x-python",
   "name": "python",
   "nbconvert_exporter": "python",
   "pygments_lexer": "ipython3",
   "version": "3.7.4"
  }
 },
 "nbformat": 4,
 "nbformat_minor": 4
}
